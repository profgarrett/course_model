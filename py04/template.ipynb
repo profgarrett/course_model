{
 "cells": [
  {
   "cell_type": "markdown",
   "id": "134ac9b8",
   "metadata": {},
   "source": [
    "# Python Functions: Practice Problems\n",
    "\n",
    "This notebook contains practice problems for each learning outcome. For each problem, read the prompt and write your code in the cell below it."
   ]
  },
  {
   "cell_type": "markdown",
   "id": "7186bd64",
   "metadata": {},
   "source": [
    "## Call functions with positional and keyword arguments"
   ]
  },
  {
   "cell_type": "markdown",
   "id": "84259446",
   "metadata": {},
   "source": [
    "**Problem 1:** Print three numbers separated by dashes using the `sep` keyword argument."
   ]
  },
  {
   "cell_type": "code",
   "execution_count": null,
   "id": "ce18745b",
   "metadata": {},
   "outputs": [],
   "source": [
    "# Your code here\n"
   ]
  },
  {
   "cell_type": "markdown",
   "id": "3c63dd90",
   "metadata": {},
   "source": [
    "**Problem 2:** Print your name and age using the sep keyword argument and a custom separator."
   ]
  },
  {
   "cell_type": "code",
   "execution_count": null,
   "id": "a650ee76",
   "metadata": {},
   "outputs": [],
   "source": [
    "# Your code here\n"
   ]
  },
  {
   "cell_type": "markdown",
   "id": "4e3aab67",
   "metadata": {},
   "source": [
    "**Problem 3:** Print two words on the same line by using the `end` keyword argument."
   ]
  },
  {
   "cell_type": "code",
   "execution_count": null,
   "id": "919c8930",
   "metadata": {},
   "outputs": [],
   "source": [
    "# Your code here\n"
   ]
  },
  {
   "cell_type": "markdown",
   "id": "0bfc69b1",
   "metadata": {},
   "source": [
    "**Problem 4:** Print numbers 1 to 5 separated by commas using the `sep` keyword argument."
   ]
  },
  {
   "cell_type": "code",
   "execution_count": null,
   "id": "ed4c987e",
   "metadata": {},
   "outputs": [],
   "source": [
    "# Your code here\n"
   ]
  },
  {
   "cell_type": "markdown",
   "id": "dbfe517a",
   "metadata": {},
   "source": [
    "## Define your own functions using the `def` statement"
   ]
  },
  {
   "cell_type": "markdown",
   "id": "de439126",
   "metadata": {},
   "source": [
    "**Problem 1:** Write a function that prints \"Python is fun!\""
   ]
  },
  {
   "cell_type": "code",
   "execution_count": null,
   "id": "81dcc791",
   "metadata": {},
   "outputs": [],
   "source": [
    "# Your code here\n"
   ]
  },
  {
   "cell_type": "markdown",
   "id": "32b7d1bd",
   "metadata": {},
   "source": [
    "**Problem 2:** Write a function that returns the cube of a number. Hint: Use `x ** 3`."
   ]
  },
  {
   "cell_type": "code",
   "execution_count": null,
   "id": "0481aca0",
   "metadata": {},
   "outputs": [],
   "source": [
    "# Your code here\n"
   ]
  },
  {
   "cell_type": "markdown",
   "id": "7ee9609b",
   "metadata": {},
   "source": [
    "**Problem 3:** Write a function that greets a user by name. Hint: use print"
   ]
  },
  {
   "cell_type": "code",
   "execution_count": null,
   "id": "1038a908",
   "metadata": {},
   "outputs": [],
   "source": [
    "# Your code here\n"
   ]
  },
  {
   "cell_type": "markdown",
   "id": "d64fecc7",
   "metadata": {},
   "source": [
    "**Problem 4:** Write a function that returns the sum of two numbers. Hint: use return"
   ]
  },
  {
   "cell_type": "code",
   "execution_count": null,
   "id": "7e8f12eb",
   "metadata": {},
   "outputs": [],
   "source": [
    "# Your code here\n"
   ]
  },
  {
   "cell_type": "markdown",
   "id": "0b0ad4ec",
   "metadata": {},
   "source": [
    "## Return values from functions, including multiple values as tuples"
   ]
  },
  {
   "cell_type": "markdown",
   "id": "f0978984",
   "metadata": {},
   "source": [
    "**Problem 1:** Write a function that returns both the sum and product of two numbers using a tuple."
   ]
  },
  {
   "cell_type": "code",
   "execution_count": null,
   "id": "f598b6bd",
   "metadata": {},
   "outputs": [],
   "source": [
    "# Your code here\n"
   ]
  },
  {
   "cell_type": "markdown",
   "id": "964863a6",
   "metadata": {},
   "source": [
    "**Problem 2:** Write a function that returns the first and last elements of a list. Hint: use indexing."
   ]
  },
  {
   "cell_type": "code",
   "execution_count": null,
   "id": "9860766a",
   "metadata": {},
   "outputs": [],
   "source": [
    "# Your code here\n"
   ]
  },
  {
   "cell_type": "markdown",
   "id": "b8303242",
   "metadata": {},
   "source": [
    "**Problem 3:** Write a function that returns the quotient and remainder of two numbers. Hint: use `//` and `%`."
   ]
  },
  {
   "cell_type": "code",
   "execution_count": null,
   "id": "ace51397",
   "metadata": {},
   "outputs": [],
   "source": [
    "# Your code here\n"
   ]
  },
  {
   "cell_type": "markdown",
   "id": "59b3af96",
   "metadata": {},
   "source": [
    "**Problem 4:** Write a function that returns the length and sum of a list."
   ]
  },
  {
   "cell_type": "code",
   "execution_count": null,
   "id": "e0c6e411",
   "metadata": {},
   "outputs": [],
   "source": [
    "# Your code here\n"
   ]
  },
  {
   "cell_type": "markdown",
   "id": "01eb6f69",
   "metadata": {},
   "source": [
    "## Use default argument values in function definitions"
   ]
  },
  {
   "cell_type": "markdown",
   "id": "b5969ad8",
   "metadata": {},
   "source": [
    "**Problem 1:** Write a function that raises a number to a power, defaulting to square."
   ]
  },
  {
   "cell_type": "code",
   "execution_count": null,
   "id": "ddfb7af7",
   "metadata": {},
   "outputs": [],
   "source": [
    "# Your code here\n"
   ]
  },
  {
   "cell_type": "markdown",
   "id": "1fcaa109",
   "metadata": {},
   "source": [
    "**Problem 2:** Write a function that greets a user, defaulting to \"World\"."
   ]
  },
  {
   "cell_type": "code",
   "execution_count": null,
   "id": "dcbd7b27",
   "metadata": {},
   "outputs": [],
   "source": [
    "# Your code here\n"
   ]
  },
  {
   "cell_type": "markdown",
   "id": "b1194eb5",
   "metadata": {},
   "source": [
    "**Problem 3:** Write a function that prints a message a given number of times, defaulting to once."
   ]
  },
  {
   "cell_type": "code",
   "execution_count": null,
   "id": "759701ce",
   "metadata": {},
   "outputs": [],
   "source": [
    "# Your code here\n"
   ]
  },
  {
   "cell_type": "markdown",
   "id": "aa464248",
   "metadata": {},
   "source": [
    "## Create short anonymous functions using the `lambda` keyword"
   ]
  },
  {
   "cell_type": "markdown",
   "id": "caf69384",
   "metadata": {},
   "source": [
    "**Problem 1:** Create a lambda that multiplies two numbers. Save the lambda to a variable and call it."
   ]
  },
  {
   "cell_type": "code",
   "execution_count": null,
   "id": "7753f7b6",
   "metadata": {},
   "outputs": [],
   "source": [
    "# Your code here\n"
   ]
  },
  {
   "cell_type": "markdown",
   "id": "4931845f",
   "metadata": {},
   "source": [
    "**Problem 2:** Sort a list of tuples by their second part using a lambda. Hint: use the sorted function with a key argument (where the key is a lambda function)."
   ]
  },
  {
   "cell_type": "code",
   "execution_count": null,
   "id": "45e06936",
   "metadata": {},
   "outputs": [],
   "source": [
    "# Your code here\n"
   ]
  },
  {
   "cell_type": "markdown",
   "id": "19e56297",
   "metadata": {},
   "source": [
    "**Problem 3:** Filter a list to keep only even numbers using a lambda. Hint: use list(filter(..., nums)) with the ... replaced with your lambda function."
   ]
  },
  {
   "cell_type": "code",
   "execution_count": null,
   "id": "a94838e9",
   "metadata": {},
   "outputs": [],
   "source": [
    "# Your code here\n"
   ]
  }
 ],
 "metadata": {
  "language_info": {
   "name": "python"
  }
 },
 "nbformat": 4,
 "nbformat_minor": 5
}
