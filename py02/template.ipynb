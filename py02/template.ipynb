{
 "cells": [
  {
   "cell_type": "markdown",
   "id": "2c60697d",
   "metadata": {},
   "source": [
    "# Practice Problems: Python Sequences and Collections"
   ]
  },
  {
   "cell_type": "markdown",
   "id": "9a91a442",
   "metadata": {},
   "source": [
    "## Lists"
   ]
  },
  {
   "cell_type": "markdown",
   "id": "ef3fb0e9",
   "metadata": {},
   "source": [
    "1. Create a list of five numbers and print the second element."
   ]
  },
  {
   "cell_type": "code",
   "execution_count": 4,
   "id": "1eec8f21",
   "metadata": {},
   "outputs": [
    {
     "name": "stdout",
     "output_type": "stream",
     "text": [
      "[1, 3, 5]\n"
     ]
    }
   ],
   "source": [
    "# Your answer here\n",
    "a = [1, 2, 3, 4, 5]\n",
    "print(a[::2])"
   ]
  },
  {
   "cell_type": "markdown",
   "id": "2df91334",
   "metadata": {},
   "source": [
    "1. Create a list of five numbers and print the 2nd to 4th elements with slicing."
   ]
  },
  {
   "cell_type": "code",
   "execution_count": null,
   "id": "2faffb0f",
   "metadata": {},
   "outputs": [],
   "source": [
    "# Your answer here"
   ]
  },
  {
   "cell_type": "markdown",
   "id": "4a6d2c8a",
   "metadata": {},
   "source": [
    "1. Create a list of five numbers and print the 3rd to last elements with slicing."
   ]
  },
  {
   "cell_type": "code",
   "execution_count": null,
   "id": "87240a62",
   "metadata": {},
   "outputs": [],
   "source": [
    "# Your answer here"
   ]
  },
  {
   "cell_type": "markdown",
   "id": "9253617f",
   "metadata": {},
   "source": [
    "1. Create a list of five numbers and print the 2nd to last and last elements."
   ]
  },
  {
   "cell_type": "code",
   "execution_count": null,
   "id": "f377dd0d",
   "metadata": {},
   "outputs": [],
   "source": [
    "# Your answer here"
   ]
  },
  {
   "cell_type": "markdown",
   "id": "25deb545",
   "metadata": {},
   "source": [
    "1. Replace the last item in a list with 100."
   ]
  },
  {
   "cell_type": "code",
   "execution_count": null,
   "id": "b142238c",
   "metadata": {},
   "outputs": [],
   "source": [
    "# Your answer here"
   ]
  },
  {
   "cell_type": "markdown",
   "id": "f1e61bcc",
   "metadata": {},
   "source": [
    "1. Remove the first element from a list with pop."
   ]
  },
  {
   "cell_type": "code",
   "execution_count": null,
   "id": "656e3d1e",
   "metadata": {},
   "outputs": [],
   "source": [
    "# Your answer here"
   ]
  },
  {
   "cell_type": "markdown",
   "id": "ef42ef12",
   "metadata": {},
   "source": [
    "1. Use a for loop to print each item in a list, one per line."
   ]
  },
  {
   "cell_type": "code",
   "execution_count": null,
   "id": "001987e7",
   "metadata": {},
   "outputs": [],
   "source": [
    "# Your answer here"
   ]
  },
  {
   "cell_type": "markdown",
   "id": "f16b91ab",
   "metadata": {},
   "source": [
    "1. Use the sort method to put a list in descending order."
   ]
  },
  {
   "cell_type": "code",
   "execution_count": null,
   "id": "f03dbc98",
   "metadata": {},
   "outputs": [],
   "source": [
    "# Your answer here"
   ]
  },
  {
   "cell_type": "markdown",
   "id": "ace96d95",
   "metadata": {},
   "source": [
    "1. Use the count method to find how many times the value 3 appears in a list."
   ]
  },
  {
   "cell_type": "code",
   "execution_count": null,
   "id": "1c6a99ff",
   "metadata": {},
   "outputs": [],
   "source": [
    "# Your answer here"
   ]
  },
  {
   "cell_type": "markdown",
   "id": "23ee564c",
   "metadata": {},
   "source": [
    "1. Use slicing to print every other element in a list."
   ]
  },
  {
   "cell_type": "code",
   "execution_count": null,
   "id": "a91336be",
   "metadata": {},
   "outputs": [],
   "source": [
    "# Your answer here"
   ]
  },
  {
   "cell_type": "markdown",
   "id": "8487274e",
   "metadata": {},
   "source": [
    "1. Concatenate two lists with + and print the result."
   ]
  },
  {
   "cell_type": "code",
   "execution_count": null,
   "id": "130e4d63",
   "metadata": {},
   "outputs": [],
   "source": [
    "# Your answer here"
   ]
  },
  {
   "cell_type": "markdown",
   "id": "195eb069",
   "metadata": {},
   "source": [
    "1. Check if the value 10 is in a list and print a message if it is."
   ]
  },
  {
   "cell_type": "code",
   "execution_count": null,
   "id": "5eda658e",
   "metadata": {},
   "outputs": [],
   "source": [
    "# Your answer here"
   ]
  },
  {
   "cell_type": "markdown",
   "id": "0279c5dd",
   "metadata": {},
   "source": [
    "## Numpy Arrays"
   ]
  },
  {
   "cell_type": "markdown",
   "id": "1e6d5067",
   "metadata": {},
   "source": [
    "1. Create a numpy array of numbers from 1 to 5 and print it."
   ]
  },
  {
   "cell_type": "code",
   "execution_count": null,
   "id": "62f78140",
   "metadata": {},
   "outputs": [],
   "source": [
    "# Your answer here"
   ]
  },
  {
   "cell_type": "markdown",
   "id": "98e40a61",
   "metadata": {},
   "source": [
    "1. Add 10 to every element in a numpy array."
   ]
  },
  {
   "cell_type": "code",
   "execution_count": null,
   "id": "d9011c6f",
   "metadata": {},
   "outputs": [],
   "source": [
    "# Your answer here"
   ]
  },
  {
   "cell_type": "markdown",
   "id": "cb3a0aa0",
   "metadata": {},
   "source": [
    "1. Multiply every element in a numpy array by 2."
   ]
  },
  {
   "cell_type": "code",
   "execution_count": null,
   "id": "bf3be73d",
   "metadata": {},
   "outputs": [],
   "source": [
    "# Your answer here"
   ]
  },
  {
   "cell_type": "markdown",
   "id": "bbda4512",
   "metadata": {},
   "source": [
    "1. Calculate the mean and standard deviation of a numpy array."
   ]
  },
  {
   "cell_type": "code",
   "execution_count": null,
   "id": "bb9bffe1",
   "metadata": {},
   "outputs": [],
   "source": [
    "# Your answer here"
   ]
  },
  {
   "cell_type": "markdown",
   "id": "39df03d3",
   "metadata": {},
   "source": [
    "1. Use boolean indexing to select all even numbers in a numpy array. Hint: use `% 2` to find the mod (remainder)."
   ]
  },
  {
   "cell_type": "code",
   "execution_count": null,
   "id": "16841887",
   "metadata": {},
   "outputs": [],
   "source": [
    "# Your answer here"
   ]
  },
  {
   "cell_type": "markdown",
   "id": "dbe2f29a",
   "metadata": {},
   "source": [
    "1. Sum all elements in a numpy array."
   ]
  },
  {
   "cell_type": "code",
   "execution_count": null,
   "id": "e3c0f7b1",
   "metadata": {},
   "outputs": [],
   "source": [
    "# Your answer here"
   ]
  },
  {
   "cell_type": "markdown",
   "id": "45bd25ce",
   "metadata": {},
   "source": [
    "1. Find the maximum value in a numpy array."
   ]
  },
  {
   "cell_type": "code",
   "execution_count": null,
   "id": "d8618e5a",
   "metadata": {},
   "outputs": [],
   "source": [
    "# Your answer here"
   ]
  },
  {
   "cell_type": "markdown",
   "id": "e9e225cf",
   "metadata": {},
   "source": [
    "## Dictionaries"
   ]
  },
  {
   "cell_type": "markdown",
   "id": "333af25b",
   "metadata": {},
   "source": [
    "1. Create a dictionary mapping three names to ages. Print the age for one name."
   ]
  },
  {
   "cell_type": "code",
   "execution_count": null,
   "id": "30556665",
   "metadata": {},
   "outputs": [],
   "source": [
    "# Your answer here"
   ]
  },
  {
   "cell_type": "markdown",
   "id": "27c3d009",
   "metadata": {},
   "source": [
    "1. Add a new key-value pair to a dictionary."
   ]
  },
  {
   "cell_type": "code",
   "execution_count": null,
   "id": "9809c9d7",
   "metadata": {},
   "outputs": [],
   "source": [
    "# Your answer here"
   ]
  },
  {
   "cell_type": "markdown",
   "id": "bb6d2973",
   "metadata": {},
   "source": [
    "1. Update the value for an existing key in a dictionary."
   ]
  },
  {
   "cell_type": "code",
   "execution_count": null,
   "id": "e63d6ed1",
   "metadata": {},
   "outputs": [],
   "source": [
    "# Your answer here"
   ]
  },
  {
   "cell_type": "markdown",
   "id": "69594aac",
   "metadata": {},
   "source": [
    "1. Remove a key from a dictionary with pop and print the result."
   ]
  },
  {
   "cell_type": "code",
   "execution_count": null,
   "id": "ae193f17",
   "metadata": {},
   "outputs": [],
   "source": [
    "# Your answer here"
   ]
  },
  {
   "cell_type": "markdown",
   "id": "a4716031",
   "metadata": {},
   "source": [
    "1. Use a for loop to print all keys in a dictionary."
   ]
  },
  {
   "cell_type": "code",
   "execution_count": null,
   "id": "04172df0",
   "metadata": {},
   "outputs": [],
   "source": [
    "# Your answer here"
   ]
  },
  {
   "cell_type": "markdown",
   "id": "d1de75c3",
   "metadata": {},
   "source": [
    "1. Use a for loop to print all values in a dictionary. Hint: use `d.values()`."
   ]
  },
  {
   "cell_type": "code",
   "execution_count": null,
   "id": "f78e8ce9",
   "metadata": {},
   "outputs": [],
   "source": [
    "# Your answer here"
   ]
  },
  {
   "cell_type": "markdown",
   "id": "3a8185ae",
   "metadata": {},
   "source": [
    "1. Check if a key exists in a dictionary using `in`."
   ]
  },
  {
   "cell_type": "code",
   "execution_count": null,
   "id": "608f3945",
   "metadata": {},
   "outputs": [],
   "source": [
    "# Your answer here"
   ]
  },
  {
   "cell_type": "markdown",
   "id": "b4b6d8b3",
   "metadata": {},
   "source": [
    "1. Get a value from a dictionary with a default if the key is missing."
   ]
  },
  {
   "cell_type": "code",
   "execution_count": null,
   "id": "562968cb",
   "metadata": {},
   "outputs": [],
   "source": [
    "# Your answer here"
   ]
  },
  {
   "cell_type": "markdown",
   "id": "dbe6a7af",
   "metadata": {},
   "source": [
    "1. Print all key-value pairs in a dictionary using items()."
   ]
  },
  {
   "cell_type": "code",
   "execution_count": null,
   "id": "0e56b312",
   "metadata": {},
   "outputs": [],
   "source": [
    "# Your answer here"
   ]
  },
  {
   "cell_type": "markdown",
   "id": "e834eb5c",
   "metadata": {},
   "source": [
    "## Tuples"
   ]
  },
  {
   "cell_type": "markdown",
   "id": "41a132e4",
   "metadata": {},
   "source": [
    "1. Create a tuple of three strings and print the first one."
   ]
  },
  {
   "cell_type": "code",
   "execution_count": null,
   "id": "bcebdaca",
   "metadata": {},
   "outputs": [],
   "source": [
    "# Your answer here"
   ]
  },
  {
   "cell_type": "markdown",
   "id": "6638a091",
   "metadata": {},
   "source": [
    "1. Try to change an element in a tuple (what happens?)."
   ]
  },
  {
   "cell_type": "code",
   "execution_count": null,
   "id": "e84703d2",
   "metadata": {},
   "outputs": [],
   "source": [
    "# Your answer here"
   ]
  },
  {
   "cell_type": "markdown",
   "id": "3801c02b",
   "metadata": {},
   "source": [
    "1. Use tuple unpacking to assign three values to three variables."
   ]
  },
  {
   "cell_type": "code",
   "execution_count": null,
   "id": "0a50d06a",
   "metadata": {},
   "outputs": [],
   "source": [
    "# Your answer here"
   ]
  },
  {
   "cell_type": "markdown",
   "id": "5f355a3c",
   "metadata": {},
   "source": [
    "1. Check if a value exists in a tuple using `in`."
   ]
  },
  {
   "cell_type": "code",
   "execution_count": null,
   "id": "87bebcb3",
   "metadata": {},
   "outputs": [],
   "source": [
    "# Your answer here"
   ]
  },
  {
   "cell_type": "markdown",
   "id": "b7eaa395",
   "metadata": {},
   "source": [
    "1. Concatenate two tuples and print the result."
   ]
  },
  {
   "cell_type": "code",
   "execution_count": null,
   "id": "757e6daf",
   "metadata": {},
   "outputs": [],
   "source": [
    "# Your answer here"
   ]
  },
  {
   "cell_type": "markdown",
   "id": "0af6be4b",
   "metadata": {},
   "source": [
    "1. Iterate over a tuple and print each value. Hint: use a for loop and `in`."
   ]
  },
  {
   "cell_type": "code",
   "execution_count": null,
   "id": "ea58faf8",
   "metadata": {},
   "outputs": [],
   "source": [
    "# Your answer here"
   ]
  },
  {
   "cell_type": "markdown",
   "id": "9779469e",
   "metadata": {},
   "source": [
    "## Sets"
   ]
  },
  {
   "cell_type": "markdown",
   "id": "f8a8164f",
   "metadata": {},
   "source": [
    "1. Create a set from a list with duplicate values and print the set."
   ]
  },
  {
   "cell_type": "code",
   "execution_count": null,
   "id": "0dcc0f66",
   "metadata": {},
   "outputs": [],
   "source": [
    "# Your answer here"
   ]
  },
  {
   "cell_type": "markdown",
   "id": "767ac318",
   "metadata": {},
   "source": [
    "1. Add a new value to a set using the `add` method."
   ]
  },
  {
   "cell_type": "code",
   "execution_count": null,
   "id": "b828b919",
   "metadata": {},
   "outputs": [],
   "source": [
    "# Your answer here"
   ]
  },
  {
   "cell_type": "markdown",
   "id": "d3944157",
   "metadata": {},
   "source": [
    "1. Remove a value from a set using the `remove` method."
   ]
  },
  {
   "cell_type": "code",
   "execution_count": null,
   "id": "fbbec73f",
   "metadata": {},
   "outputs": [],
   "source": [
    "# Your answer here"
   ]
  },
  {
   "cell_type": "markdown",
   "id": "9b9f2859",
   "metadata": {},
   "source": [
    "1. Find the union of two sets with the `|` operator."
   ]
  },
  {
   "cell_type": "code",
   "execution_count": null,
   "id": "39cda6a0",
   "metadata": {},
   "outputs": [],
   "source": [
    "# Your answer here"
   ]
  },
  {
   "cell_type": "markdown",
   "id": "cb6c51a3",
   "metadata": {},
   "source": [
    "1. Find the intersection of two sets with the `&` operator."
   ]
  },
  {
   "cell_type": "code",
   "execution_count": null,
   "id": "089e4507",
   "metadata": {},
   "outputs": [],
   "source": [
    "# Your answer here"
   ]
  },
  {
   "cell_type": "markdown",
   "id": "2d70b7f5",
   "metadata": {},
   "source": [
    "1. Find the difference between two sets with the `-` operator."
   ]
  },
  {
   "cell_type": "code",
   "execution_count": null,
   "id": "727c7106",
   "metadata": {},
   "outputs": [],
   "source": [
    "# Your answer here"
   ]
  },
  {
   "cell_type": "markdown",
   "id": "437bc358",
   "metadata": {},
   "source": [
    "1. Check if a value is in a set using the `in` keyword."
   ]
  },
  {
   "cell_type": "code",
   "execution_count": null,
   "id": "6079165c",
   "metadata": {},
   "outputs": [],
   "source": [
    "# Your answer here"
   ]
  },
  {
   "cell_type": "markdown",
   "id": "44ea7842",
   "metadata": {},
   "source": [
    "1. Use a set to remove duplicates from a list."
   ]
  },
  {
   "cell_type": "code",
   "execution_count": null,
   "id": "be7abe05",
   "metadata": {},
   "outputs": [],
   "source": [
    "# Your answer here"
   ]
  },
  {
   "cell_type": "markdown",
   "id": "bfbfde9b",
   "metadata": {},
   "source": [
    "1. Iterate over a set and print each value. Hint: use a for loop and `in`."
   ]
  },
  {
   "cell_type": "code",
   "execution_count": null,
   "id": "5d4766f4",
   "metadata": {},
   "outputs": [],
   "source": [
    "# Your answer here"
   ]
  },
  {
   "cell_type": "markdown",
   "id": "46cd6bac",
   "metadata": {},
   "source": [
    "## General"
   ]
  },
  {
   "cell_type": "markdown",
   "id": "4d7feda8",
   "metadata": {},
   "source": [
    "1. Explain when you would use a numpy array instead of a list."
   ]
  },
  {
   "cell_type": "code",
   "execution_count": null,
   "id": "306df6fd",
   "metadata": {},
   "outputs": [],
   "source": [
    "# Your answer here"
   ]
  },
  {
   "cell_type": "markdown",
   "id": "74ce0ad1",
   "metadata": {},
   "source": [
    "1. Compare the performance of summing a large list vs. a numpy array (use %timeit in Jupyter)."
   ]
  },
  {
   "cell_type": "code",
   "execution_count": 6,
   "id": "2c3c4b14",
   "metadata": {},
   "outputs": [
    {
     "name": "stdout",
     "output_type": "stream",
     "text": [
      "2.16 ms ± 17.1 μs per loop (mean ± std. dev. of 7 runs, 100 loops each)\n",
      "18.6 ms ± 180 μs per loop (mean ± std. dev. of 7 runs, 100 loops each)\n"
     ]
    }
   ],
   "source": [
    "# Your answer here\n",
    "import numpy as np\n",
    "large_list = list(range(1000000))\n",
    "\n",
    "%timeit sum(large_list)\n",
    "%timeit np.array(large_list).sum()"
   ]
  },
  {
   "cell_type": "markdown",
   "id": "f7476010",
   "metadata": {},
   "source": [
    "1. Explain the difference between mutable and immutable types in Python."
   ]
  },
  {
   "cell_type": "code",
   "execution_count": null,
   "id": "d38d2a10",
   "metadata": {},
   "outputs": [],
   "source": [
    "# Your answer here"
   ]
  }
 ],
 "metadata": {
  "kernelspec": {
   "display_name": "base",
   "language": "python",
   "name": "python3"
  },
  "language_info": {
   "codemirror_mode": {
    "name": "ipython",
    "version": 3
   },
   "file_extension": ".py",
   "mimetype": "text/x-python",
   "name": "python",
   "nbconvert_exporter": "python",
   "pygments_lexer": "ipython3",
   "version": "3.12.7"
  }
 },
 "nbformat": 4,
 "nbformat_minor": 5
}
