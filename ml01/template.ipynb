{
 "cells": [
  {
   "cell_type": "markdown",
   "id": "b00c63b8",
   "metadata": {},
   "source": [
    "# ML01: Introduction to Modeling\n",
    "\n",
    "**Outcomes:**\n",
    "- Understand the basics of statistical modeling\n",
    "- Learn how to compare two groups using statistical tests\n",
    "- Familiarize with the concept of p-values and confidence intervals\n",
    "- Model a series of experiments and measure the results"
   ]
  },
  {
   "cell_type": "markdown",
   "id": "a26b5946",
   "metadata": {},
   "source": [
    "## Task\n",
    "\n",
    "You have a mining company looking for valuable gems. There are two different locations, one better than the other.\n",
    "\n",
    "Each time you dig, you may find either a gem or a worthless rock. It costs you $1 to dig in a location. You can dig in either of two locations, which we will call Jar A and Jar B.\n",
    "\n",
    "How many times do you dig in each location before deciding on which jar is the best?\n",
    "\n",
    "Your goal is to pick the smallest number of samples that results in the right decision 99% of the time."
   ]
  },
  {
   "cell_type": "code",
   "execution_count": null,
   "id": "6eaad956",
   "metadata": {},
   "outputs": [],
   "source": [
    "import numpy as np\n",
    "\n",
    "# Create two jars with binary outcomes (1 = success, 0 = failure)\n",
    "jar_a = []\n",
    "? = []\n"
   ]
  },
  {
   "cell_type": "code",
   "execution_count": null,
   "id": "7e92c8f2",
   "metadata": {},
   "outputs": [
    {
     "name": "stdout",
     "output_type": "stream",
     "text": [
      "Mean of jar_a: 0.2\n",
      "Mean of jar_b: 0.5\n",
      "Cost of jar_a: 10\n",
      "Cost of jar_b: 10\n"
     ]
    }
   ],
   "source": [
    "# Which is the best jar?\n",
    "print('Mean of jar_a:', sum() / len())\n",
    "print('Mean of jar_b:', )\n",
    "\n"
   ]
  },
  {
   "cell_type": "code",
   "execution_count": null,
   "id": "579f6139",
   "metadata": {},
   "outputs": [
    {
     "name": "stdout",
     "output_type": "stream",
     "text": [
      "t-statistic: -1.9639610121239315\n",
      "confidence interval: ConfidenceInterval(low=-0.6209211426201753, high=0.020921142620175304)\n",
      "p-value: 0.06516948808048838\n"
     ]
    }
   ],
   "source": [
    "# Use a two-sample t-test test to determine if the difference in means is significant\n",
    "from scipy.stats import ttest_ind\n",
    "\n",
    "# Testing to see if the means of the two jars are significantly different\n",
    "result = ttest_ind(jar_a, ?)\n",
    "\n",
    "print('t-statistic:', result.statistic)\n",
    "print('confidence interval:', result.confidence_interval(?))\n",
    "print('p-value:', result.pvalue)\n"
   ]
  },
  {
   "cell_type": "code",
   "execution_count": 1,
   "id": "0084db38",
   "metadata": {},
   "outputs": [
    {
     "ename": "SyntaxError",
     "evalue": "invalid syntax (273502896.py, line 3)",
     "output_type": "error",
     "traceback": [
      "\u001b[0;36m  Cell \u001b[0;32mIn[1], line 3\u001b[0;36m\u001b[0m\n\u001b[0;31m    sample_size = ?\u001b[0m\n\u001b[0m                  ^\u001b[0m\n\u001b[0;31mSyntaxError\u001b[0m\u001b[0;31m:\u001b[0m invalid syntax\n"
     ]
    }
   ],
   "source": [
    "# But how consistent are the results?\n",
    "# We will randomly generate data \n",
    "sample_size = ?\n",
    "np.random.seed(1)\n",
    "\n",
    "# Use a binomial distribution to simulate the jars (1 or 0)\n",
    "jar_a = np.random.binomial(n=1, p=?, size=?)\n",
    "jar_b = np.random.binomial(n=1, p=?, size=?)\n",
    "\n",
    "print('New jar_a:', ?)\n",
    "print('New jar_b:', ?)\n",
    "\n",
    "result = ttest_ind(jar_a, jar_b)\n",
    "\n",
    "# Print the results of the t-test, getting the t-statistic, confidence interval, and p-value\n",
    "# The ci shows the difference in means with a 95% confidence level\n",
    "# The p-value indicates the probability of observing the data if the null hypothesis is true (no difference in means)\n",
    "print('t-statistic:', result.statistic)\n",
    "print('confidence interval:', result.confidence_interval(0.95))\n",
    "print('p-value:', result.pvalue)"
   ]
  },
  {
   "cell_type": "code",
   "execution_count": null,
   "id": "19ba52a8",
   "metadata": {},
   "outputs": [
    {
     "name": "stdout",
     "output_type": "stream",
     "text": [
      "[1, 1, 1, 0, 1, 1, 1, 1, 1, 1, 1, 1, 1, 0, 1, 1, 1, 1, 1, 0, 1, 1, 1, 1, 1, 1, 1, 1, 0, 1, 1, 0, 0, 1, 1, 1, 0, 1, 1, 1, 1, 1, 0, 1, 1, 1, 1, 1, 0, 1, 1, 0, 1, 0, 1, 1, 1, 0, 1, 0, 1, 0, 1, 1, 1, 1, 1, 0, 1, 1, 0, 1, 1, 1, 1, 1, 1, 1, 1, 1, 1, 0, 1, 1, 1, 1, 1, 0, 1, 1, 1, 1, 1, 1, 1, 0, 0, 0, 1, 1]\n",
      "Mean correct results over experiments: 0.79\n"
     ]
    }
   ],
   "source": [
    "# Let's now try simulating different experiments\n",
    "num_experiments = ?\n",
    "sample_size = ?\n",
    "correct_results = ?\n",
    "\n",
    "for experiment_number in range(num_experiments):\n",
    "    # Simulate new jars for each experiment\n",
    "    np.random.seed(experiment_number)  # Ensure reproducibility for each experiment\n",
    "\n",
    "    jar_a = np.random.binomial(n=1, p=?, size=sample_size)\n",
    "    jar_b = np.random.binomial(n=1, p=?, size=sample_size)\n",
    "\n",
    "    if(? > ?)):\n",
    "        correct_results.append(1)\n",
    "    else:\n",
    "        correct_results.append(0)\n",
    "\n",
    "# Analyze the results of the experiments\n",
    "print(correct_results)\n",
    "\n",
    "print('Mean correct results over experiments:', ?)\n"
   ]
  }
 ],
 "metadata": {
  "kernelspec": {
   "display_name": "base",
   "language": "python",
   "name": "python3"
  },
  "language_info": {
   "codemirror_mode": {
    "name": "ipython",
    "version": 3
   },
   "file_extension": ".py",
   "mimetype": "text/x-python",
   "name": "python",
   "nbconvert_exporter": "python",
   "pygments_lexer": "ipython3",
   "version": "3.12.7"
  }
 },
 "nbformat": 4,
 "nbformat_minor": 5
}
