{
 "cells": [
  {
   "cell_type": "markdown",
   "id": "e8e0bcdc",
   "metadata": {},
   "source": [
    "# Pandas Practice Problems\n",
    "\n",
    "Each section contains a problem. Write your code in the cell below each prompt."
   ]
  },
  {
   "cell_type": "markdown",
   "id": "0c8769fd",
   "metadata": {},
   "source": [
    "## Load a CSV file named 'students.csv' into a DataFrame called `students`."
   ]
  },
  {
   "cell_type": "code",
   "execution_count": null,
   "id": "a2e1f0a3",
   "metadata": {},
   "outputs": [],
   "source": [
    "# Your code here\n"
   ]
  },
  {
   "cell_type": "markdown",
   "id": "45b02cdf",
   "metadata": {},
   "source": [
    "## Load a CSV file without headers and assign column names 'A', 'B', 'C'."
   ]
  },
  {
   "cell_type": "code",
   "execution_count": null,
   "id": "3c3880b0",
   "metadata": {},
   "outputs": [],
   "source": [
    "# Your code here\n"
   ]
  },
  {
   "cell_type": "markdown",
   "id": "8c58fef3",
   "metadata": {},
   "source": [
    "## Create a Series from the list [10, 20, 30]."
   ]
  },
  {
   "cell_type": "code",
   "execution_count": null,
   "id": "a0513393",
   "metadata": {},
   "outputs": [],
   "source": [
    "# Your code here\n"
   ]
  },
  {
   "cell_type": "markdown",
   "id": "74b098e3",
   "metadata": {},
   "source": [
    "## Create a Series with custom indices 'x', 'y', 'z'. Use the index parameter."
   ]
  },
  {
   "cell_type": "code",
   "execution_count": null,
   "id": "574d83bb",
   "metadata": {},
   "outputs": [],
   "source": [
    "# Your code here\n"
   ]
  },
  {
   "cell_type": "markdown",
   "id": "d2910992",
   "metadata": {},
   "source": [
    "## Create a DataFrame from a dictionary with columns 'Name' and 'Score'."
   ]
  },
  {
   "cell_type": "code",
   "execution_count": null,
   "id": "d31b73ec",
   "metadata": {},
   "outputs": [],
   "source": [
    "# Your code here\n"
   ]
  },
  {
   "cell_type": "markdown",
   "id": "6c200e2a",
   "metadata": {},
   "source": [
    "## Create a DataFrame from a list of lists: [[1, 2], [3, 4]] with columns 'A' and 'B'."
   ]
  },
  {
   "cell_type": "code",
   "execution_count": null,
   "id": "c8103658",
   "metadata": {},
   "outputs": [],
   "source": [
    "# Your code here\n"
   ]
  },
  {
   "cell_type": "markdown",
   "id": "56a149e5",
   "metadata": {},
   "source": [
    "## Given a DataFrame df, print the 'Score' column."
   ]
  },
  {
   "cell_type": "code",
   "execution_count": null,
   "id": "b59cb8a9",
   "metadata": {},
   "outputs": [],
   "source": [
    "# Your code here\n"
   ]
  },
  {
   "cell_type": "markdown",
   "id": "fcb47422",
   "metadata": {},
   "source": [
    "## Access the 'Name' column and convert it to a list using tolist()."
   ]
  },
  {
   "cell_type": "code",
   "execution_count": null,
   "id": "d87a4a9f",
   "metadata": {},
   "outputs": [],
   "source": [
    "# Your code here\n"
   ]
  },
  {
   "cell_type": "markdown",
   "id": "c84c2a52",
   "metadata": {},
   "source": [
    "## Set the 'Name' column as the index of df."
   ]
  },
  {
   "cell_type": "code",
   "execution_count": null,
   "id": "1379fb88",
   "metadata": {},
   "outputs": [],
   "source": [
    "# Your code here\n"
   ]
  },
  {
   "cell_type": "markdown",
   "id": "80addfcc",
   "metadata": {},
   "source": [
    "## Access the row for 'Alice' using .loc."
   ]
  },
  {
   "cell_type": "code",
   "execution_count": null,
   "id": "22a84a87",
   "metadata": {},
   "outputs": [],
   "source": [
    "# Your code here\n"
   ]
  },
  {
   "cell_type": "markdown",
   "id": "f39170d5",
   "metadata": {},
   "source": [
    "## Access the first row using .iloc."
   ]
  },
  {
   "cell_type": "code",
   "execution_count": null,
   "id": "f5580e60",
   "metadata": {},
   "outputs": [],
   "source": [
    "# Your code here\n"
   ]
  },
  {
   "cell_type": "markdown",
   "id": "82752a54",
   "metadata": {},
   "source": [
    "## Select rows where 'Score' is greater than 80."
   ]
  },
  {
   "cell_type": "code",
   "execution_count": null,
   "id": "6ed07cb4",
   "metadata": {},
   "outputs": [],
   "source": [
    "# Your code here\n"
   ]
  },
  {
   "cell_type": "markdown",
   "id": "0ba537b6",
   "metadata": {},
   "source": [
    "## Select rows where 'Score' is less than or equal to 85."
   ]
  },
  {
   "cell_type": "code",
   "execution_count": null,
   "id": "9041ba06",
   "metadata": {},
   "outputs": [],
   "source": [
    "# Your code here\n"
   ]
  },
  {
   "cell_type": "markdown",
   "id": "ac9d396e",
   "metadata": {},
   "source": [
    "## Sort df by 'Score' in descending order."
   ]
  },
  {
   "cell_type": "code",
   "execution_count": null,
   "id": "22efcdd9",
   "metadata": {},
   "outputs": [],
   "source": [
    "# Your code here\n"
   ]
  },
  {
   "cell_type": "markdown",
   "id": "47a15175",
   "metadata": {},
   "source": [
    "## Sort by 'Name' alphabetically."
   ]
  },
  {
   "cell_type": "code",
   "execution_count": null,
   "id": "3732d5fa",
   "metadata": {},
   "outputs": [],
   "source": [
    "# Your code here\n"
   ]
  },
  {
   "cell_type": "markdown",
   "id": "e3083e9a",
   "metadata": {},
   "source": [
    "## Merge two DataFrames df1 and df2 on the column 'ID'."
   ]
  },
  {
   "cell_type": "code",
   "execution_count": null,
   "id": "5726ebae",
   "metadata": {},
   "outputs": [],
   "source": [
    "# Your code here\n"
   ]
  },
  {
   "cell_type": "markdown",
   "id": "694aba76",
   "metadata": {},
   "source": [
    "## Perform a left join of df1 and df2 on 'ID'."
   ]
  },
  {
   "cell_type": "code",
   "execution_count": null,
   "id": "bb806421",
   "metadata": {},
   "outputs": [],
   "source": [
    "# Your code here\n"
   ]
  },
  {
   "cell_type": "markdown",
   "id": "f290df03",
   "metadata": {},
   "source": [
    "## Add a new column 'Passed' to df where 'Score' >= 60 is True, else False."
   ]
  },
  {
   "cell_type": "code",
   "execution_count": null,
   "id": "b8897f8c",
   "metadata": {},
   "outputs": [],
   "source": [
    "# Your code here\n"
   ]
  },
  {
   "cell_type": "markdown",
   "id": "c4d9df6a",
   "metadata": {},
   "source": [
    "## Remove the 'Passed' column from df."
   ]
  },
  {
   "cell_type": "code",
   "execution_count": null,
   "id": "878e49cf",
   "metadata": {},
   "outputs": [],
   "source": [
    "# Your code here\n"
   ]
  },
  {
   "cell_type": "markdown",
   "id": "9c36f5bb",
   "metadata": {},
   "source": [
    "## Increase all 'Score' values by 5."
   ]
  },
  {
   "cell_type": "code",
   "execution_count": null,
   "id": "761c7630",
   "metadata": {},
   "outputs": [],
   "source": [
    "# Your code here\n"
   ]
  }
 ],
 "metadata": {
  "language_info": {
   "name": "python"
  }
 },
 "nbformat": 4,
 "nbformat_minor": 5
}
