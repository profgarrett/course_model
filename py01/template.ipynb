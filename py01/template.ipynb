{
 "cells": [
  {
   "cell_type": "markdown",
   "id": "f5d0282a",
   "metadata": {},
   "source": [
    "## 🔢 Practice Set: Variables, Assignment, and Functions in Python"
   ]
  },
  {
   "cell_type": "markdown",
   "id": "6ef819dd",
   "metadata": {},
   "source": [
    "### **1. Simple Variable Assignment**\n",
    "\n",
    "Assign the number `42` to a variable named `answer`. Print the value of `answer`.\n"
   ]
  },
  {
   "cell_type": "markdown",
   "id": "eae7281a",
   "metadata": {},
   "source": [
    "### **2. Rename the Variable**\n",
    "\n",
    "The variable name `2ndPlace` is invalid. Fix the name to follow Python naming conventions and assign it the value `\"Alice\"`.\n"
   ]
  },
  {
   "cell_type": "code",
   "execution_count": null,
   "id": "8e0e7075",
   "metadata": {},
   "outputs": [],
   "source": [
    "# Your answer here"
   ]
  },
  {
   "cell_type": "markdown",
   "id": "6fa0b6fa",
   "metadata": {},
   "source": [
    "### **3. Multiple Assignments**\n",
    "\n",
    "Assign the values `10`, `20`, and `30` to variables `x`, `y`, and `z` respectively, in a single line. Then print the sum of the three.\n"
   ]
  },
  {
   "cell_type": "code",
   "execution_count": null,
   "id": "b9dea55a",
   "metadata": {},
   "outputs": [],
   "source": [
    "# Your answer here"
   ]
  },
  {
   "cell_type": "markdown",
   "id": "8600114c",
   "metadata": {},
   "source": [
    "### **4. Use Built-in Functions**\n",
    "\n",
    "Assign your first name to a variable called `first_name`. Use the `len()` function to print how many characters are in your name.\n"
   ]
  },
  {
   "cell_type": "code",
   "execution_count": null,
   "id": "8b95e864",
   "metadata": {},
   "outputs": [],
   "source": [
    "# Your answer here"
   ]
  },
  {
   "cell_type": "markdown",
   "id": "fa4a84c4",
   "metadata": {},
   "source": [
    "### **5. Temperature Conversion**\n",
    "\n",
    "Write a program that assigns a Celsius temperature to a variable `celsius_temp`, and then calculates and prints the equivalent Fahrenheit temperature using the formula:\n",
    "\n",
    "$$\n",
    "\\text{Fahrenheit} = \\text{Celsius} \\times 1.8 + 32\n",
    "$$\n"
   ]
  },
  {
   "cell_type": "code",
   "execution_count": null,
   "id": "224d3eca",
   "metadata": {},
   "outputs": [],
   "source": [
    "# Your answer here"
   ]
  },
  {
   "cell_type": "markdown",
   "id": "c23fdee3",
   "metadata": {},
   "source": [
    "### **6. Fix the Errors**\n",
    "\n",
    "The following code has two problems. Fix them:\n",
    "\n",
    "```python\n",
    "my-name = \"Jordan\"\n",
    "print(My-Name)\n",
    "```\n"
   ]
  },
  {
   "cell_type": "code",
   "execution_count": null,
   "id": "6aea34f6",
   "metadata": {},
   "outputs": [],
   "source": [
    "# Your answer here"
   ]
  },
  {
   "cell_type": "markdown",
   "id": "bf01ca38",
   "metadata": {},
   "source": [
    "### **7. Comparison**\n",
    "\n",
    "Create a variable `a` with the value `5` and a variable `b` with the value `10`. Write several tests to see which is larger, smaller, or if they are equal. Print the results of each comparison.\n",
    "\n",
    "\n"
   ]
  },
  {
   "cell_type": "code",
   "execution_count": null,
   "id": "b610bf4c",
   "metadata": {},
   "outputs": [],
   "source": [
    "# Your answer here"
   ]
  },
  {
   "cell_type": "markdown",
   "id": "fadcae69",
   "metadata": {},
   "source": [
    "### **8. Reserved Words**\n",
    "\n",
    "Why does this code cause an error? Rewrite it with a valid variable name.\n",
    "\n",
    "```python\n",
    "def = 5\n",
    "print(def)\n",
    "```\n"
   ]
  },
  {
   "cell_type": "code",
   "execution_count": null,
   "id": "409017af",
   "metadata": {},
   "outputs": [],
   "source": [
    "# Your answer here"
   ]
  },
  {
   "cell_type": "markdown",
   "id": "736d38e0",
   "metadata": {},
   "source": [
    "### **9. Chained Assignment**\n",
    "\n",
    "Assign the value `100` to three variables `a`, `b`, and `c` in one line. Then, print the result of `a + b + c`.\n"
   ]
  },
  {
   "cell_type": "code",
   "execution_count": null,
   "id": "7a34ff02",
   "metadata": {},
   "outputs": [],
   "source": [
    "# Your answer here"
   ]
  },
  {
   "cell_type": "markdown",
   "id": "b9892136",
   "metadata": {},
   "source": [
    "### **10. Naming Style Check**\n",
    "\n",
    "You want to store a user’s full name. Which of these variable names is best and why?\n",
    "\n",
    "* `FullName`\n",
    "* `full_name`\n",
    "* `fullname`\n",
    "* `Fullname`\n",
    "\n",
    "Then, assign your full name to the best choice.\n"
   ]
  },
  {
   "cell_type": "code",
   "execution_count": null,
   "id": "f9a2a23a",
   "metadata": {},
   "outputs": [],
   "source": [
    "# Your answer here"
   ]
  }
 ],
 "metadata": {
  "language_info": {
   "name": "python"
  }
 },
 "nbformat": 4,
 "nbformat_minor": 5
}
