{
 "cells": [
  {
   "cell_type": "markdown",
   "id": "6888474e",
   "metadata": {},
   "source": [
    "## If, Elif, Else Statements\n",
    "Update the 'If, Elif, Else Statements' section from the solution file into the template file. Write code to solve each problem."
   ]
  },
  {
   "cell_type": "code",
   "execution_count": null,
   "id": "dc16591b",
   "metadata": {},
   "outputs": [],
   "source": [
    "# 1. Write the python code to check if a number is positive, negative, or zero.\n",
    "# Your answer here\n",
    "\n",
    "# 2. Write a program that assigns a score and prints a letter grade based on the score.\n",
    "# Your answer here\n",
    "\n",
    "# 3. Test to see if the age is between 18 and 65.\n",
    "# Your answer here\n",
    "\n",
    "# 4. Use an if statement to check if a variable is not None.\n",
    "# Your answer here"
   ]
  },
  {
   "cell_type": "markdown",
   "id": "4565b8eb",
   "metadata": {},
   "source": [
    "## Boolean Expressions\n",
    "Extract and update the 'Boolean Expressions' section from the solution file into the template file. Write code to solve each problem."
   ]
  },
  {
   "cell_type": "code",
   "execution_count": null,
   "id": "0c6510d7",
   "metadata": {},
   "outputs": [],
   "source": [
    "# 1. See if 7 is greater than 3\n",
    "# Your answer here\n",
    "\n",
    "# 2. See if 4 is equal to 4\n",
    "# Your answer here\n",
    "\n",
    "# 3. See if 2 is not equal to 5\n",
    "# Your answer here\n",
    "\n",
    "# 4. See if 3 is in a list of 1, 2, 3\n",
    "# Your answer here\n",
    "\n",
    "# 5. Test to see if both conditions are true: x < 10 and y > 5\n",
    "# Your answer here"
   ]
  },
  {
   "cell_type": "markdown",
   "id": "d557203b",
   "metadata": {},
   "source": [
    "## For Loops Over Lists/Arrays/Ranges\n",
    "Extract and update the 'For Loops Over Lists/Arrays/Ranges' section from the solution file into the template file. Write code to solve each problem."
   ]
  },
  {
   "cell_type": "code",
   "execution_count": null,
   "id": "16a1e8a8",
   "metadata": {},
   "outputs": [],
   "source": [
    "# 1. Loop over a list of fruits (apples, bananas, cherries) and print each fruit\n",
    "# Your answer here\n",
    "\n",
    "# 2. Create a range from 0 to 2 and print each number\n",
    "# Your answer here\n",
    "\n",
    "# 3. Loop over a string \"cat\" and print each character\n",
    "# Your answer here\n",
    "\n",
    "# 4. (Intentionally left blank, as in solution)\n",
    "\n",
    "# 5. Loop over a numpy array of [1, 2, 3] and print each element\n",
    "# Your answer here"
   ]
  },
  {
   "cell_type": "markdown",
   "id": "e8426472",
   "metadata": {},
   "source": [
    "## Conditional Logic Inside Loops\n",
    "Extract and update the 'Conditional Logic Inside Loops' section from the solution file into the template file. Write code to solve each problem."
   ]
  },
  {
   "cell_type": "code",
   "execution_count": null,
   "id": "03fd5344",
   "metadata": {},
   "outputs": [],
   "source": [
    "# 1. Get even numbers from a list and append them to a new list called evens\n",
    "# Your answer here\n",
    "\n",
    "# 2. Print all numbers greater than 3 from a list\n",
    "# Your answer here\n",
    "\n",
    "# 3. Replace negative numbers in a list with zero\n",
    "# Your answer here\n",
    "\n",
    "# 4. Print \"odd\" or \"even\" for each number\n",
    "# Your answer here\n",
    "\n",
    "# 5. Collect numbers divisible by 3 in a new array\n",
    "# Your answer here"
   ]
  },
  {
   "cell_type": "markdown",
   "id": "66e8b007",
   "metadata": {},
   "source": [
    "## Using range()\n",
    "Extract and update the 'Using range()' section from the solution file into the template file. Write code to solve each problem."
   ]
  },
  {
   "cell_type": "code",
   "execution_count": null,
   "id": "b44dcdd6",
   "metadata": {},
   "outputs": [],
   "source": [
    "# 1. Print numbers 0 to 4\n",
    "# Your answer here\n",
    "\n",
    "# 2. Print numbers 2 to 6\n",
    "# Your answer here\n",
    "\n",
    "# 3. Print even numbers from 0 to 10\n",
    "# Your answer here\n",
    "\n",
    "# 4. Print numbers in reverse from 5 to 1\n",
    "# Your answer here\n",
    "\n",
    "# 5. Print squares of numbers 1 to 5\n",
    "# Your answer here"
   ]
  },
  {
   "cell_type": "markdown",
   "id": "116592d4",
   "metadata": {},
   "source": [
    "## Combining Loops and Conditionals for Data Analysis\n",
    "Extract and update the 'Combining Loops and Conditionals for Data Analysis' section from the solution file into the template file. Write code to solve each problem."
   ]
  },
  {
   "cell_type": "code",
   "execution_count": null,
   "id": "356bbe18",
   "metadata": {},
   "outputs": [],
   "source": [
    "# 1. Print all numbers greater than 10 in a list\n",
    "# Your answer here\n",
    "\n",
    "# 2. Count how many numbers are negative\n",
    "# Your answer here\n",
    "\n",
    "# 3. Find the sum of all even numbers in a list\n",
    "# Your answer here\n",
    "\n",
    "# 4. Make a new list of numbers greater than 5\n",
    "# Your answer here\n",
    "\n",
    "# 5. Print index and value for all odd numbers\n",
    "# Your answer here"
   ]
  }
 ],
 "metadata": {
  "language_info": {
   "name": "python"
  }
 },
 "nbformat": 4,
 "nbformat_minor": 5
}
